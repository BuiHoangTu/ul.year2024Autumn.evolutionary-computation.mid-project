{
 "cells": [
  {
   "cell_type": "markdown",
   "metadata": {},
   "source": [
    "# Features exploration\n",
    "\n",
    "All features given are numerical (including but not limited to boolean)"
   ]
  },
  {
   "cell_type": "code",
   "execution_count": 1,
   "metadata": {},
   "outputs": [
    {
     "data": {
      "text/plain": [
       "Index(['HighBP', 'HighChol', 'CholCheck', 'BMI', 'Smoker', 'Stroke',\n",
       "       'HeartDiseaseorAttack', 'PhysActivity', 'Fruits', 'Veggies',\n",
       "       'HvyAlcoholConsump', 'AnyHealthcare', 'NoDocbcCost', 'GenHlth',\n",
       "       'MentHlth', 'PhysHlth', 'DiffWalk', 'Sex', 'Age', 'Education', 'Income',\n",
       "       'output'],\n",
       "      dtype='object')"
      ]
     },
     "execution_count": 1,
     "metadata": {},
     "output_type": "execute_result"
    }
   ],
   "source": [
    "import pandas as pd\n",
    "\n",
    "\n",
    "trainDf = pd.read_csv('train.csv')\n",
    "trainDf.columns"
   ]
  },
  {
   "cell_type": "markdown",
   "metadata": {},
   "source": [
    "## Numerical data (Not including boolean)\n",
    "\n",
    "- BMI\n",
    "- GenHlth\n",
    "- MentHlth\n",
    "- PhysHlth\n",
    "- Age\n",
    "- Education\n",
    "- Income"
   ]
  },
  {
   "cell_type": "code",
   "execution_count": 2,
   "metadata": {},
   "outputs": [
    {
     "data": {
      "text/html": [
       "<div>\n",
       "<style scoped>\n",
       "    .dataframe tbody tr th:only-of-type {\n",
       "        vertical-align: middle;\n",
       "    }\n",
       "\n",
       "    .dataframe tbody tr th {\n",
       "        vertical-align: top;\n",
       "    }\n",
       "\n",
       "    .dataframe thead th {\n",
       "        text-align: right;\n",
       "    }\n",
       "</style>\n",
       "<table border=\"1\" class=\"dataframe\">\n",
       "  <thead>\n",
       "    <tr style=\"text-align: right;\">\n",
       "      <th></th>\n",
       "      <th>HighBP</th>\n",
       "      <th>HighChol</th>\n",
       "      <th>CholCheck</th>\n",
       "      <th>BMI</th>\n",
       "      <th>Smoker</th>\n",
       "      <th>Stroke</th>\n",
       "      <th>HeartDiseaseorAttack</th>\n",
       "      <th>PhysActivity</th>\n",
       "      <th>Fruits</th>\n",
       "      <th>Veggies</th>\n",
       "      <th>...</th>\n",
       "      <th>NoDocbcCost</th>\n",
       "      <th>GenHlth</th>\n",
       "      <th>MentHlth</th>\n",
       "      <th>PhysHlth</th>\n",
       "      <th>DiffWalk</th>\n",
       "      <th>Sex</th>\n",
       "      <th>Age</th>\n",
       "      <th>Education</th>\n",
       "      <th>Income</th>\n",
       "      <th>output</th>\n",
       "    </tr>\n",
       "  </thead>\n",
       "  <tbody>\n",
       "    <tr>\n",
       "      <th>count</th>\n",
       "      <td>5042.000000</td>\n",
       "      <td>5042.000000</td>\n",
       "      <td>5042.000000</td>\n",
       "      <td>5042.000000</td>\n",
       "      <td>5042.000000</td>\n",
       "      <td>5042.000000</td>\n",
       "      <td>5042.000000</td>\n",
       "      <td>5042.000000</td>\n",
       "      <td>5042.000000</td>\n",
       "      <td>5042.000000</td>\n",
       "      <td>...</td>\n",
       "      <td>5042.000000</td>\n",
       "      <td>5042.000000</td>\n",
       "      <td>5042.000000</td>\n",
       "      <td>5042.000000</td>\n",
       "      <td>5042.000000</td>\n",
       "      <td>5042.000000</td>\n",
       "      <td>5042.000000</td>\n",
       "      <td>5042.000000</td>\n",
       "      <td>5042.000000</td>\n",
       "      <td>5042.000000</td>\n",
       "    </tr>\n",
       "    <tr>\n",
       "      <th>mean</th>\n",
       "      <td>0.513883</td>\n",
       "      <td>0.493653</td>\n",
       "      <td>0.972035</td>\n",
       "      <td>29.447441</td>\n",
       "      <td>0.473225</td>\n",
       "      <td>0.050377</td>\n",
       "      <td>0.133082</td>\n",
       "      <td>0.728877</td>\n",
       "      <td>0.616025</td>\n",
       "      <td>0.801666</td>\n",
       "      <td>...</td>\n",
       "      <td>0.085879</td>\n",
       "      <td>2.702102</td>\n",
       "      <td>3.617017</td>\n",
       "      <td>5.195954</td>\n",
       "      <td>0.207061</td>\n",
       "      <td>0.447441</td>\n",
       "      <td>8.376041</td>\n",
       "      <td>4.958548</td>\n",
       "      <td>5.852836</td>\n",
       "      <td>0.356010</td>\n",
       "    </tr>\n",
       "    <tr>\n",
       "      <th>std</th>\n",
       "      <td>0.499857</td>\n",
       "      <td>0.500009</td>\n",
       "      <td>0.164889</td>\n",
       "      <td>7.080019</td>\n",
       "      <td>0.499332</td>\n",
       "      <td>0.218743</td>\n",
       "      <td>0.339697</td>\n",
       "      <td>0.444583</td>\n",
       "      <td>0.486400</td>\n",
       "      <td>0.398785</td>\n",
       "      <td>...</td>\n",
       "      <td>0.280213</td>\n",
       "      <td>1.106379</td>\n",
       "      <td>7.997166</td>\n",
       "      <td>9.538762</td>\n",
       "      <td>0.405240</td>\n",
       "      <td>0.497279</td>\n",
       "      <td>2.920253</td>\n",
       "      <td>1.018217</td>\n",
       "      <td>2.131317</td>\n",
       "      <td>0.478866</td>\n",
       "    </tr>\n",
       "    <tr>\n",
       "      <th>min</th>\n",
       "      <td>0.000000</td>\n",
       "      <td>0.000000</td>\n",
       "      <td>0.000000</td>\n",
       "      <td>14.000000</td>\n",
       "      <td>0.000000</td>\n",
       "      <td>0.000000</td>\n",
       "      <td>0.000000</td>\n",
       "      <td>0.000000</td>\n",
       "      <td>0.000000</td>\n",
       "      <td>0.000000</td>\n",
       "      <td>...</td>\n",
       "      <td>0.000000</td>\n",
       "      <td>1.000000</td>\n",
       "      <td>0.000000</td>\n",
       "      <td>0.000000</td>\n",
       "      <td>0.000000</td>\n",
       "      <td>0.000000</td>\n",
       "      <td>1.000000</td>\n",
       "      <td>1.000000</td>\n",
       "      <td>1.000000</td>\n",
       "      <td>0.000000</td>\n",
       "    </tr>\n",
       "    <tr>\n",
       "      <th>25%</th>\n",
       "      <td>0.000000</td>\n",
       "      <td>0.000000</td>\n",
       "      <td>1.000000</td>\n",
       "      <td>25.000000</td>\n",
       "      <td>0.000000</td>\n",
       "      <td>0.000000</td>\n",
       "      <td>0.000000</td>\n",
       "      <td>0.000000</td>\n",
       "      <td>0.000000</td>\n",
       "      <td>1.000000</td>\n",
       "      <td>...</td>\n",
       "      <td>0.000000</td>\n",
       "      <td>2.000000</td>\n",
       "      <td>0.000000</td>\n",
       "      <td>0.000000</td>\n",
       "      <td>0.000000</td>\n",
       "      <td>0.000000</td>\n",
       "      <td>7.000000</td>\n",
       "      <td>4.000000</td>\n",
       "      <td>4.000000</td>\n",
       "      <td>0.000000</td>\n",
       "    </tr>\n",
       "    <tr>\n",
       "      <th>50%</th>\n",
       "      <td>1.000000</td>\n",
       "      <td>0.000000</td>\n",
       "      <td>1.000000</td>\n",
       "      <td>28.000000</td>\n",
       "      <td>0.000000</td>\n",
       "      <td>0.000000</td>\n",
       "      <td>0.000000</td>\n",
       "      <td>1.000000</td>\n",
       "      <td>1.000000</td>\n",
       "      <td>1.000000</td>\n",
       "      <td>...</td>\n",
       "      <td>0.000000</td>\n",
       "      <td>3.000000</td>\n",
       "      <td>0.000000</td>\n",
       "      <td>0.000000</td>\n",
       "      <td>0.000000</td>\n",
       "      <td>0.000000</td>\n",
       "      <td>9.000000</td>\n",
       "      <td>5.000000</td>\n",
       "      <td>6.000000</td>\n",
       "      <td>0.000000</td>\n",
       "    </tr>\n",
       "    <tr>\n",
       "      <th>75%</th>\n",
       "      <td>1.000000</td>\n",
       "      <td>1.000000</td>\n",
       "      <td>1.000000</td>\n",
       "      <td>33.000000</td>\n",
       "      <td>1.000000</td>\n",
       "      <td>0.000000</td>\n",
       "      <td>0.000000</td>\n",
       "      <td>1.000000</td>\n",
       "      <td>1.000000</td>\n",
       "      <td>1.000000</td>\n",
       "      <td>...</td>\n",
       "      <td>0.000000</td>\n",
       "      <td>3.000000</td>\n",
       "      <td>2.000000</td>\n",
       "      <td>5.000000</td>\n",
       "      <td>0.000000</td>\n",
       "      <td>1.000000</td>\n",
       "      <td>10.000000</td>\n",
       "      <td>6.000000</td>\n",
       "      <td>8.000000</td>\n",
       "      <td>1.000000</td>\n",
       "    </tr>\n",
       "    <tr>\n",
       "      <th>max</th>\n",
       "      <td>1.000000</td>\n",
       "      <td>1.000000</td>\n",
       "      <td>1.000000</td>\n",
       "      <td>98.000000</td>\n",
       "      <td>1.000000</td>\n",
       "      <td>1.000000</td>\n",
       "      <td>1.000000</td>\n",
       "      <td>1.000000</td>\n",
       "      <td>1.000000</td>\n",
       "      <td>1.000000</td>\n",
       "      <td>...</td>\n",
       "      <td>1.000000</td>\n",
       "      <td>5.000000</td>\n",
       "      <td>30.000000</td>\n",
       "      <td>30.000000</td>\n",
       "      <td>1.000000</td>\n",
       "      <td>1.000000</td>\n",
       "      <td>13.000000</td>\n",
       "      <td>6.000000</td>\n",
       "      <td>8.000000</td>\n",
       "      <td>1.000000</td>\n",
       "    </tr>\n",
       "  </tbody>\n",
       "</table>\n",
       "<p>8 rows × 22 columns</p>\n",
       "</div>"
      ],
      "text/plain": [
       "            HighBP     HighChol    CholCheck          BMI       Smoker  \\\n",
       "count  5042.000000  5042.000000  5042.000000  5042.000000  5042.000000   \n",
       "mean      0.513883     0.493653     0.972035    29.447441     0.473225   \n",
       "std       0.499857     0.500009     0.164889     7.080019     0.499332   \n",
       "min       0.000000     0.000000     0.000000    14.000000     0.000000   \n",
       "25%       0.000000     0.000000     1.000000    25.000000     0.000000   \n",
       "50%       1.000000     0.000000     1.000000    28.000000     0.000000   \n",
       "75%       1.000000     1.000000     1.000000    33.000000     1.000000   \n",
       "max       1.000000     1.000000     1.000000    98.000000     1.000000   \n",
       "\n",
       "            Stroke  HeartDiseaseorAttack  PhysActivity       Fruits  \\\n",
       "count  5042.000000           5042.000000   5042.000000  5042.000000   \n",
       "mean      0.050377              0.133082      0.728877     0.616025   \n",
       "std       0.218743              0.339697      0.444583     0.486400   \n",
       "min       0.000000              0.000000      0.000000     0.000000   \n",
       "25%       0.000000              0.000000      0.000000     0.000000   \n",
       "50%       0.000000              0.000000      1.000000     1.000000   \n",
       "75%       0.000000              0.000000      1.000000     1.000000   \n",
       "max       1.000000              1.000000      1.000000     1.000000   \n",
       "\n",
       "           Veggies  ...  NoDocbcCost      GenHlth     MentHlth     PhysHlth  \\\n",
       "count  5042.000000  ...  5042.000000  5042.000000  5042.000000  5042.000000   \n",
       "mean      0.801666  ...     0.085879     2.702102     3.617017     5.195954   \n",
       "std       0.398785  ...     0.280213     1.106379     7.997166     9.538762   \n",
       "min       0.000000  ...     0.000000     1.000000     0.000000     0.000000   \n",
       "25%       1.000000  ...     0.000000     2.000000     0.000000     0.000000   \n",
       "50%       1.000000  ...     0.000000     3.000000     0.000000     0.000000   \n",
       "75%       1.000000  ...     0.000000     3.000000     2.000000     5.000000   \n",
       "max       1.000000  ...     1.000000     5.000000    30.000000    30.000000   \n",
       "\n",
       "          DiffWalk          Sex          Age    Education       Income  \\\n",
       "count  5042.000000  5042.000000  5042.000000  5042.000000  5042.000000   \n",
       "mean      0.207061     0.447441     8.376041     4.958548     5.852836   \n",
       "std       0.405240     0.497279     2.920253     1.018217     2.131317   \n",
       "min       0.000000     0.000000     1.000000     1.000000     1.000000   \n",
       "25%       0.000000     0.000000     7.000000     4.000000     4.000000   \n",
       "50%       0.000000     0.000000     9.000000     5.000000     6.000000   \n",
       "75%       0.000000     1.000000    10.000000     6.000000     8.000000   \n",
       "max       1.000000     1.000000    13.000000     6.000000     8.000000   \n",
       "\n",
       "            output  \n",
       "count  5042.000000  \n",
       "mean      0.356010  \n",
       "std       0.478866  \n",
       "min       0.000000  \n",
       "25%       0.000000  \n",
       "50%       0.000000  \n",
       "75%       1.000000  \n",
       "max       1.000000  \n",
       "\n",
       "[8 rows x 22 columns]"
      ]
     },
     "execution_count": 2,
     "metadata": {},
     "output_type": "execute_result"
    }
   ],
   "source": [
    "trainDf.describe()"
   ]
  },
  {
   "cell_type": "code",
   "execution_count": 3,
   "metadata": {},
   "outputs": [
    {
     "name": "stdout",
     "output_type": "stream",
     "text": [
      "Number of numerical features: 7\n",
      "Number of boolean features: 14\n"
     ]
    }
   ],
   "source": [
    "CONTINUOUS_FEATURES = [\"BMI\", \"Age\"]\n",
    "ORDINAL_FEATURES = [\"GenHlth\", \"MentHlth\", \"PhysHlth\", \"Education\", \"Income\"]\n",
    "\n",
    "BOOLEAN_FEATURES = [\n",
    "    col\n",
    "    for col in trainDf.columns\n",
    "    if col not in CONTINUOUS_FEATURES\n",
    "    and col not in ORDINAL_FEATURES\n",
    "    and col != \"output\"\n",
    "]\n",
    "\n",
    "print(f\"Number of numerical features: {len(CONTINUOUS_FEATURES) + len(ORDINAL_FEATURES)}\")\n",
    "print(f\"Number of boolean features: {len(BOOLEAN_FEATURES)}\")"
   ]
  },
  {
   "cell_type": "markdown",
   "metadata": {},
   "source": [
    "## Todo\n",
    "\n",
    "Check outliner of BMI"
   ]
  },
  {
   "cell_type": "code",
   "execution_count": 4,
   "metadata": {},
   "outputs": [],
   "source": [
    "import numpy as np\n",
    "from pandas import DataFrame\n",
    "\n",
    "\n",
    "class Outliner:\n",
    "    def __init__(self):\n",
    "        self.fitted = False\n",
    "\n",
    "    def fit(self, df: DataFrame):\n",
    "        self.Q1 = df.quantile(0.25)\n",
    "        self.Q3 = df.quantile(0.75)\n",
    "        self.IQR = self.Q3 - self.Q1\n",
    "        self.fitted = True\n",
    "\n",
    "    def transform(self, df):\n",
    "        df = df.copy()\n",
    "        df[((df < (self.Q1 - 1.5 * self.IQR)) | (df > (self.Q3 + 1.5 * self.IQR)))] = (\n",
    "            np.nan\n",
    "        )\n",
    "        return df\n",
    "\n",
    "    def fit_transform(self, df):\n",
    "        self.fit(df)\n",
    "        return self.transform(df)"
   ]
  },
  {
   "cell_type": "markdown",
   "metadata": {},
   "source": [
    "# Normalize data"
   ]
  },
  {
   "cell_type": "code",
   "execution_count": 5,
   "metadata": {},
   "outputs": [
    {
     "data": {
      "text/html": [
       "<div>\n",
       "<style scoped>\n",
       "    .dataframe tbody tr th:only-of-type {\n",
       "        vertical-align: middle;\n",
       "    }\n",
       "\n",
       "    .dataframe tbody tr th {\n",
       "        vertical-align: top;\n",
       "    }\n",
       "\n",
       "    .dataframe thead th {\n",
       "        text-align: right;\n",
       "    }\n",
       "</style>\n",
       "<table border=\"1\" class=\"dataframe\">\n",
       "  <thead>\n",
       "    <tr style=\"text-align: right;\">\n",
       "      <th></th>\n",
       "      <th>HighBP</th>\n",
       "      <th>HighChol</th>\n",
       "      <th>CholCheck</th>\n",
       "      <th>BMI</th>\n",
       "      <th>Smoker</th>\n",
       "      <th>Stroke</th>\n",
       "      <th>HeartDiseaseorAttack</th>\n",
       "      <th>PhysActivity</th>\n",
       "      <th>Fruits</th>\n",
       "      <th>Veggies</th>\n",
       "      <th>...</th>\n",
       "      <th>NoDocbcCost</th>\n",
       "      <th>GenHlth</th>\n",
       "      <th>MentHlth</th>\n",
       "      <th>PhysHlth</th>\n",
       "      <th>DiffWalk</th>\n",
       "      <th>Sex</th>\n",
       "      <th>Age</th>\n",
       "      <th>Education</th>\n",
       "      <th>Income</th>\n",
       "      <th>output</th>\n",
       "    </tr>\n",
       "  </thead>\n",
       "  <tbody>\n",
       "    <tr>\n",
       "      <th>count</th>\n",
       "      <td>5042.000000</td>\n",
       "      <td>5042.000000</td>\n",
       "      <td>5042.000000</td>\n",
       "      <td>5.042000e+03</td>\n",
       "      <td>5042.000000</td>\n",
       "      <td>5042.000000</td>\n",
       "      <td>5042.000000</td>\n",
       "      <td>5042.000000</td>\n",
       "      <td>5042.000000</td>\n",
       "      <td>5042.000000</td>\n",
       "      <td>...</td>\n",
       "      <td>5042.000000</td>\n",
       "      <td>5042.000000</td>\n",
       "      <td>5042.000000</td>\n",
       "      <td>5042.000000</td>\n",
       "      <td>5042.000000</td>\n",
       "      <td>5042.000000</td>\n",
       "      <td>5.042000e+03</td>\n",
       "      <td>5042.000000</td>\n",
       "      <td>5042.000000</td>\n",
       "      <td>5042.000000</td>\n",
       "    </tr>\n",
       "    <tr>\n",
       "      <th>mean</th>\n",
       "      <td>0.513883</td>\n",
       "      <td>0.493653</td>\n",
       "      <td>0.972035</td>\n",
       "      <td>-2.113872e-16</td>\n",
       "      <td>0.473225</td>\n",
       "      <td>0.050377</td>\n",
       "      <td>0.133082</td>\n",
       "      <td>0.728877</td>\n",
       "      <td>0.616025</td>\n",
       "      <td>0.801666</td>\n",
       "      <td>...</td>\n",
       "      <td>0.085879</td>\n",
       "      <td>0.425526</td>\n",
       "      <td>0.120567</td>\n",
       "      <td>0.173198</td>\n",
       "      <td>0.207061</td>\n",
       "      <td>0.447441</td>\n",
       "      <td>-5.214217e-17</td>\n",
       "      <td>0.791710</td>\n",
       "      <td>0.693262</td>\n",
       "      <td>0.356010</td>\n",
       "    </tr>\n",
       "    <tr>\n",
       "      <th>std</th>\n",
       "      <td>0.499857</td>\n",
       "      <td>0.500009</td>\n",
       "      <td>0.164889</td>\n",
       "      <td>1.000099e+00</td>\n",
       "      <td>0.499332</td>\n",
       "      <td>0.218743</td>\n",
       "      <td>0.339697</td>\n",
       "      <td>0.444583</td>\n",
       "      <td>0.486400</td>\n",
       "      <td>0.398785</td>\n",
       "      <td>...</td>\n",
       "      <td>0.280213</td>\n",
       "      <td>0.276595</td>\n",
       "      <td>0.266572</td>\n",
       "      <td>0.317959</td>\n",
       "      <td>0.405240</td>\n",
       "      <td>0.497279</td>\n",
       "      <td>1.000099e+00</td>\n",
       "      <td>0.203643</td>\n",
       "      <td>0.304474</td>\n",
       "      <td>0.478866</td>\n",
       "    </tr>\n",
       "    <tr>\n",
       "      <th>min</th>\n",
       "      <td>0.000000</td>\n",
       "      <td>0.000000</td>\n",
       "      <td>0.000000</td>\n",
       "      <td>-2.182052e+00</td>\n",
       "      <td>0.000000</td>\n",
       "      <td>0.000000</td>\n",
       "      <td>0.000000</td>\n",
       "      <td>0.000000</td>\n",
       "      <td>0.000000</td>\n",
       "      <td>0.000000</td>\n",
       "      <td>...</td>\n",
       "      <td>0.000000</td>\n",
       "      <td>0.000000</td>\n",
       "      <td>0.000000</td>\n",
       "      <td>0.000000</td>\n",
       "      <td>0.000000</td>\n",
       "      <td>0.000000</td>\n",
       "      <td>-2.526073e+00</td>\n",
       "      <td>0.000000</td>\n",
       "      <td>0.000000</td>\n",
       "      <td>0.000000</td>\n",
       "    </tr>\n",
       "    <tr>\n",
       "      <th>25%</th>\n",
       "      <td>0.000000</td>\n",
       "      <td>0.000000</td>\n",
       "      <td>1.000000</td>\n",
       "      <td>-6.282303e-01</td>\n",
       "      <td>0.000000</td>\n",
       "      <td>0.000000</td>\n",
       "      <td>0.000000</td>\n",
       "      <td>0.000000</td>\n",
       "      <td>0.000000</td>\n",
       "      <td>1.000000</td>\n",
       "      <td>...</td>\n",
       "      <td>0.000000</td>\n",
       "      <td>0.250000</td>\n",
       "      <td>0.000000</td>\n",
       "      <td>0.000000</td>\n",
       "      <td>0.000000</td>\n",
       "      <td>0.000000</td>\n",
       "      <td>-4.712529e-01</td>\n",
       "      <td>0.600000</td>\n",
       "      <td>0.428571</td>\n",
       "      <td>0.000000</td>\n",
       "    </tr>\n",
       "    <tr>\n",
       "      <th>50%</th>\n",
       "      <td>1.000000</td>\n",
       "      <td>0.000000</td>\n",
       "      <td>1.000000</td>\n",
       "      <td>-2.044606e-01</td>\n",
       "      <td>0.000000</td>\n",
       "      <td>0.000000</td>\n",
       "      <td>0.000000</td>\n",
       "      <td>1.000000</td>\n",
       "      <td>1.000000</td>\n",
       "      <td>1.000000</td>\n",
       "      <td>...</td>\n",
       "      <td>0.000000</td>\n",
       "      <td>0.500000</td>\n",
       "      <td>0.000000</td>\n",
       "      <td>0.000000</td>\n",
       "      <td>0.000000</td>\n",
       "      <td>0.000000</td>\n",
       "      <td>2.136872e-01</td>\n",
       "      <td>0.800000</td>\n",
       "      <td>0.714286</td>\n",
       "      <td>0.000000</td>\n",
       "    </tr>\n",
       "    <tr>\n",
       "      <th>75%</th>\n",
       "      <td>1.000000</td>\n",
       "      <td>1.000000</td>\n",
       "      <td>1.000000</td>\n",
       "      <td>5.018222e-01</td>\n",
       "      <td>1.000000</td>\n",
       "      <td>0.000000</td>\n",
       "      <td>0.000000</td>\n",
       "      <td>1.000000</td>\n",
       "      <td>1.000000</td>\n",
       "      <td>1.000000</td>\n",
       "      <td>...</td>\n",
       "      <td>0.000000</td>\n",
       "      <td>0.500000</td>\n",
       "      <td>0.066667</td>\n",
       "      <td>0.166667</td>\n",
       "      <td>0.000000</td>\n",
       "      <td>1.000000</td>\n",
       "      <td>5.561573e-01</td>\n",
       "      <td>1.000000</td>\n",
       "      <td>1.000000</td>\n",
       "      <td>1.000000</td>\n",
       "    </tr>\n",
       "    <tr>\n",
       "      <th>max</th>\n",
       "      <td>1.000000</td>\n",
       "      <td>1.000000</td>\n",
       "      <td>1.000000</td>\n",
       "      <td>9.683498e+00</td>\n",
       "      <td>1.000000</td>\n",
       "      <td>1.000000</td>\n",
       "      <td>1.000000</td>\n",
       "      <td>1.000000</td>\n",
       "      <td>1.000000</td>\n",
       "      <td>1.000000</td>\n",
       "      <td>...</td>\n",
       "      <td>1.000000</td>\n",
       "      <td>1.000000</td>\n",
       "      <td>1.000000</td>\n",
       "      <td>1.000000</td>\n",
       "      <td>1.000000</td>\n",
       "      <td>1.000000</td>\n",
       "      <td>1.583567e+00</td>\n",
       "      <td>1.000000</td>\n",
       "      <td>1.000000</td>\n",
       "      <td>1.000000</td>\n",
       "    </tr>\n",
       "  </tbody>\n",
       "</table>\n",
       "<p>8 rows × 22 columns</p>\n",
       "</div>"
      ],
      "text/plain": [
       "            HighBP     HighChol    CholCheck           BMI       Smoker  \\\n",
       "count  5042.000000  5042.000000  5042.000000  5.042000e+03  5042.000000   \n",
       "mean      0.513883     0.493653     0.972035 -2.113872e-16     0.473225   \n",
       "std       0.499857     0.500009     0.164889  1.000099e+00     0.499332   \n",
       "min       0.000000     0.000000     0.000000 -2.182052e+00     0.000000   \n",
       "25%       0.000000     0.000000     1.000000 -6.282303e-01     0.000000   \n",
       "50%       1.000000     0.000000     1.000000 -2.044606e-01     0.000000   \n",
       "75%       1.000000     1.000000     1.000000  5.018222e-01     1.000000   \n",
       "max       1.000000     1.000000     1.000000  9.683498e+00     1.000000   \n",
       "\n",
       "            Stroke  HeartDiseaseorAttack  PhysActivity       Fruits  \\\n",
       "count  5042.000000           5042.000000   5042.000000  5042.000000   \n",
       "mean      0.050377              0.133082      0.728877     0.616025   \n",
       "std       0.218743              0.339697      0.444583     0.486400   \n",
       "min       0.000000              0.000000      0.000000     0.000000   \n",
       "25%       0.000000              0.000000      0.000000     0.000000   \n",
       "50%       0.000000              0.000000      1.000000     1.000000   \n",
       "75%       0.000000              0.000000      1.000000     1.000000   \n",
       "max       1.000000              1.000000      1.000000     1.000000   \n",
       "\n",
       "           Veggies  ...  NoDocbcCost      GenHlth     MentHlth     PhysHlth  \\\n",
       "count  5042.000000  ...  5042.000000  5042.000000  5042.000000  5042.000000   \n",
       "mean      0.801666  ...     0.085879     0.425526     0.120567     0.173198   \n",
       "std       0.398785  ...     0.280213     0.276595     0.266572     0.317959   \n",
       "min       0.000000  ...     0.000000     0.000000     0.000000     0.000000   \n",
       "25%       1.000000  ...     0.000000     0.250000     0.000000     0.000000   \n",
       "50%       1.000000  ...     0.000000     0.500000     0.000000     0.000000   \n",
       "75%       1.000000  ...     0.000000     0.500000     0.066667     0.166667   \n",
       "max       1.000000  ...     1.000000     1.000000     1.000000     1.000000   \n",
       "\n",
       "          DiffWalk          Sex           Age    Education       Income  \\\n",
       "count  5042.000000  5042.000000  5.042000e+03  5042.000000  5042.000000   \n",
       "mean      0.207061     0.447441 -5.214217e-17     0.791710     0.693262   \n",
       "std       0.405240     0.497279  1.000099e+00     0.203643     0.304474   \n",
       "min       0.000000     0.000000 -2.526073e+00     0.000000     0.000000   \n",
       "25%       0.000000     0.000000 -4.712529e-01     0.600000     0.428571   \n",
       "50%       0.000000     0.000000  2.136872e-01     0.800000     0.714286   \n",
       "75%       0.000000     1.000000  5.561573e-01     1.000000     1.000000   \n",
       "max       1.000000     1.000000  1.583567e+00     1.000000     1.000000   \n",
       "\n",
       "            output  \n",
       "count  5042.000000  \n",
       "mean      0.356010  \n",
       "std       0.478866  \n",
       "min       0.000000  \n",
       "25%       0.000000  \n",
       "50%       0.000000  \n",
       "75%       1.000000  \n",
       "max       1.000000  \n",
       "\n",
       "[8 rows x 22 columns]"
      ]
     },
     "execution_count": 5,
     "metadata": {},
     "output_type": "execute_result"
    }
   ],
   "source": [
    "from sklearn.preprocessing import StandardScaler, MinMaxScaler\n",
    "\n",
    "\n",
    "stdScaler = StandardScaler()\n",
    "trainDf[CONTINUOUS_FEATURES] = stdScaler.fit_transform(trainDf[CONTINUOUS_FEATURES])\n",
    "\n",
    "minMaxScaler = MinMaxScaler()\n",
    "trainDf[ORDINAL_FEATURES] = minMaxScaler.fit_transform(trainDf[ORDINAL_FEATURES])\n",
    "\n",
    "trainDf.describe()"
   ]
  },
  {
   "cell_type": "markdown",
   "metadata": {},
   "source": [
    "# Grammatical Evolution"
   ]
  },
  {
   "cell_type": "code",
   "execution_count": 6,
   "metadata": {},
   "outputs": [
    {
     "name": "stdout",
     "output_type": "stream",
     "text": [
      "/home/tu/code-py/evolutionary-computation/grape\n",
      "/home/tu/code-py/evolutionary-computation/mid-project\n"
     ]
    }
   ],
   "source": [
    "# switch directory to use grape\n",
    "%cd ../grape\n",
    "\n",
    "# import grape and necessary functions\n",
    "import grape\n",
    "from algorithms import ge_eaSimpleWithElitism\n",
    "from functions import pdiv\n",
    "\n",
    "\n",
    "# switch back to the original directory\n",
    "%cd -"
   ]
  },
  {
   "cell_type": "markdown",
   "metadata": {},
   "source": [
    "## Parameters "
   ]
  },
  {
   "cell_type": "code",
   "execution_count": 7,
   "metadata": {},
   "outputs": [],
   "source": [
    "import random \n",
    "\n",
    "\n",
    "RANDOM_SEED = 1\n",
    "random.seed(RANDOM_SEED)\n",
    "\n",
    "POPULATION_SIZE = 1000\n",
    "MAX_GENERATIONS = 100\n",
    "P_CROSSOVER = 0.8\n",
    "P_MUTATION = 0.01\n",
    "HALLOFFAME_SIZE = max(round(0.01 * POPULATION_SIZE), 1)  # it should be at least 1\n",
    "ELITE_SIZE = min(round(0.01 * POPULATION_SIZE), HALLOFFAME_SIZE)\n",
    "\n",
    "CODON_CONSUMPTION = \"lazy\"\n",
    "GENOME_REPRESENTATION = \"list\"\n",
    "MAX_GENOME_LENGTH = None\n",
    "\n",
    "MAX_INIT_TREE_DEPTH = 13\n",
    "MIN_INIT_TREE_DEPTH = 3\n",
    "MAX_TREE_DEPTH = 90\n",
    "MAX_WRAPS = 0\n",
    "CODON_SIZE = 255\n",
    "\n",
    "REPORT_ITEMS = [\n",
    "    \"gen\",\n",
    "    \"invalid\",\n",
    "    \"avg\",\n",
    "    \"std\",\n",
    "    \"min\",\n",
    "    \"max\",\n",
    "    \"fitness_test\",\n",
    "    \"best_ind_length\",\n",
    "    \"avg_length\",\n",
    "    \"best_ind_nodes\",\n",
    "    \"avg_nodes\",\n",
    "    \"best_ind_depth\",\n",
    "    \"avg_depth\",\n",
    "    \"avg_used_codons\",\n",
    "    \"best_ind_used_codons\",\n",
    "    \"selection_time\",\n",
    "    \"generation_time\",\n",
    "]"
   ]
  },
  {
   "cell_type": "markdown",
   "metadata": {},
   "source": [
    "## Gramma"
   ]
  },
  {
   "cell_type": "code",
   "execution_count": 8,
   "metadata": {},
   "outputs": [
    {
     "data": {
      "text/plain": [
       "[[['<compare_op>', 'non-terminal', 1, 0, True, 4],\n",
       "  ['and_(<logic_op>, <logic_op>)', 'non-terminal', 2, 1, True, 3],\n",
       "  ['or_(<logic_op>, <logic_op>)', 'non-terminal', 2, 2, True, 3],\n",
       "  ['not_(<logic_op>)', 'non-terminal', 1, 3, True, 3],\n",
       "  ['<bool_feat>', 'non-terminal', 1, 4, False, 2]],\n",
       " [['greater_than(<number_value>, <number_value>)',\n",
       "   'non-terminal',\n",
       "   2,\n",
       "   0,\n",
       "   True,\n",
       "   3],\n",
       "  ['less_than(<number_value>, <number_value>)',\n",
       "   'non-terminal',\n",
       "   2,\n",
       "   1,\n",
       "   True,\n",
       "   3]],\n",
       " [['<number_op>', 'non-terminal', 1, 0, True, 4],\n",
       "  ['<number_feat>', 'non-terminal', 1, 1, False, 2],\n",
       "  ['<number>', 'non-terminal', 1, 2, False, 3]],\n",
       " [['add(<number_value>, <number_value>)', 'non-terminal', 2, 0, True, 3],\n",
       "  ['sub(<number_value>, <number_value>)', 'non-terminal', 2, 1, True, 3],\n",
       "  ['mul(<number_value>, <number_value>)', 'non-terminal', 2, 2, True, 3],\n",
       "  ['div(<number_value>, <number_value>)', 'non-terminal', 2, 3, True, 3]],\n",
       " [['<d>.<d><d><d><d>', 'non-terminal', 5, 0, False, 2],\n",
       "  ['-<d>.<d><d><d><d>', 'non-terminal', 5, 1, False, 2]],\n",
       " [['0', 'terminal', 0, 0, False, 1],\n",
       "  ['1', 'terminal', 0, 1, False, 1],\n",
       "  ['2', 'terminal', 0, 2, False, 1],\n",
       "  ['3', 'terminal', 0, 3, False, 1],\n",
       "  ['4', 'terminal', 0, 4, False, 1],\n",
       "  ['5', 'terminal', 0, 5, False, 1],\n",
       "  ['6', 'terminal', 0, 6, False, 1],\n",
       "  ['7', 'terminal', 0, 7, False, 1],\n",
       "  ['8', 'terminal', 0, 8, False, 1],\n",
       "  ['9', 'terminal', 0, 9, False, 1]],\n",
       " [['nf[0]', 'terminal', 0, 0, False, 1],\n",
       "  ['nf[1]', 'terminal', 0, 1, False, 1],\n",
       "  ['nf[2]', 'terminal', 0, 2, False, 1],\n",
       "  ['nf[3]', 'terminal', 0, 3, False, 1],\n",
       "  ['nf[4]', 'terminal', 0, 4, False, 1],\n",
       "  ['nf[5]', 'terminal', 0, 5, False, 1],\n",
       "  ['nf[6]', 'terminal', 0, 6, False, 1]],\n",
       " [['bf[0]', 'terminal', 0, 0, False, 1],\n",
       "  ['bf[1]', 'terminal', 0, 1, False, 1],\n",
       "  ['bf[2]', 'terminal', 0, 2, False, 1],\n",
       "  ['bf[3]', 'terminal', 0, 3, False, 1],\n",
       "  ['bf[4]', 'terminal', 0, 4, False, 1],\n",
       "  ['bf[5]', 'terminal', 0, 5, False, 1],\n",
       "  ['bf[6]', 'terminal', 0, 6, False, 1],\n",
       "  ['bf[7]', 'terminal', 0, 7, False, 1],\n",
       "  ['bf[8]', 'terminal', 0, 8, False, 1],\n",
       "  ['bf[9]', 'terminal', 0, 9, False, 1],\n",
       "  ['bf[10]', 'terminal', 0, 10, False, 1],\n",
       "  ['bf[11]', 'terminal', 0, 11, False, 1],\n",
       "  ['bf[12]', 'terminal', 0, 12, False, 1],\n",
       "  ['bf[13]', 'terminal', 0, 13, False, 1]]]"
      ]
     },
     "execution_count": 8,
     "metadata": {},
     "output_type": "execute_result"
    }
   ],
   "source": [
    "grammar = grape.Grammar(\"./gramma.bnf\")\n",
    "grammar.production_rules"
   ]
  },
  {
   "cell_type": "markdown",
   "metadata": {},
   "source": [
    "## Fitness function "
   ]
  },
  {
   "cell_type": "code",
   "execution_count": null,
   "metadata": {},
   "outputs": [],
   "source": [
    "import numpy as np\n",
    "\n",
    "\n",
    "def and_(a, b):\n",
    "    return np.logical_and(a, b)\n",
    "def or_(a, b):\n",
    "    return np.logical_or(a, b)\n",
    "def not_(a):\n",
    "    return np.logical_not(a)\n",
    "\n",
    "def greater_than(a, b):\n",
    "    return (a > b)\n",
    "def less_than(a, b):\n",
    "    return (a < b)\n",
    "\n",
    "def add(a, b):\n",
    "    return (a + b)\n",
    "def sub(a, b):\n",
    "    return (a - b)\n",
    "def mul(a, b):\n",
    "    return (a * b)\n",
    "def div(a, b):\n",
    "    return pdiv(a, b)\n",
    "\n",
    "\n",
    "class GE_ExecuteError(Exception):\n",
    "    # take a message as input\n",
    "    def __init__(self, message=\"Error during the execution of the individual\"):\n",
    "        self.message = message\n",
    "        super().__init__(self.message)\n",
    "    pass\n",
    "\n",
    "def gePredict(individual, nf, bf):\n",
    "    \"\"\"Predict if a case is positive or negative using ge and the individual.\n",
    "\n",
    "    Args:\n",
    "        individual (_type_): a valid GE individual\n",
    "        nf (_type_): numerical features\n",
    "        bf (_type_): boolean features\n",
    "\n",
    "    Raises:\n",
    "        GE_ExecuteError: if error happens during the execution of the individual\n",
    "\n",
    "    Returns:\n",
    "        int: 0 if the case is negative, 1 if the case is positive\n",
    "    \"\"\"\n",
    "    \n",
    "    nf = np.array(nf)\n",
    "    bf = np.array(bf)\n",
    "    \n",
    "    assert nf.ndim == bf.ndim, \"Numerical and Boolean data must have the same number of dimensions\"\n",
    "    \n",
    "    # execute\n",
    "    try:\n",
    "        if nf.ndim == 1:\n",
    "            res = eval(individual.phenotype)\n",
    "            pred = 1 if res > 0 else 0\n",
    "            return pred\n",
    "        \n",
    "        if nf.ndim == 2:\n",
    "            assert nf.shape[0] == bf.shape[0], \"Numerical and Boolean data must have the same number of samples\"\n",
    "            \n",
    "            nf = nf.T\n",
    "            bf = bf.T\n",
    "        \n",
    "            res = eval(individual.phenotype)\n",
    "            pred = [1 if res[i] > 0 else 0 for i in range(len(res))]\n",
    "            return pred\n",
    "        \n",
    "        raise NotImplementedError(\"Data with more than 2 dimensions is not supported\")\n",
    "        \n",
    "    except (\n",
    "        FloatingPointError,\n",
    "        ZeroDivisionError,\n",
    "        OverflowError,\n",
    "        MemoryError,\n",
    "        IndexError,\n",
    "        TypeError,\n",
    "    ) as e:\n",
    "        raise GE_ExecuteError(str(e))\n",
    "\n",
    "def fitness(individual, points):\n",
    "    if individual.invalid:\n",
    "        return np.nan,\n",
    "    \n",
    "    x, Y = points\n",
    "    \n",
    "    nf = x[CONTINUOUS_FEATURES + ORDINAL_FEATURES].to_numpy()\n",
    "    bf = x[BOOLEAN_FEATURES].to_numpy()\n",
    "    \n",
    "    try:\n",
    "        pred = gePredict(individual, nf, bf)\n",
    "        \n",
    "        errRate = np.sum(np.abs(Y - pred)) / len(Y)\n",
    "    except GE_ExecuteError:\n",
    "        return np.nan,\n",
    "\n",
    "    \n",
    "    return (errRate,)"
   ]
  },
  {
   "cell_type": "markdown",
   "metadata": {},
   "source": [
    "## Train"
   ]
  },
  {
   "cell_type": "markdown",
   "metadata": {},
   "source": [
    "### Toolbox"
   ]
  },
  {
   "cell_type": "code",
   "execution_count": 10,
   "metadata": {},
   "outputs": [],
   "source": [
    "from deap import creator, base, tools\n",
    "\n",
    "toolbox = base.Toolbox()\n",
    "\n",
    "# define a single objective, minimising fitness strategy:\n",
    "creator.create(\"FitnessMin\", base.Fitness, weights=(-1.0,))\n",
    "creator.create(\"Individual\", grape.Individual, fitness=creator.FitnessMin)\n",
    "\n",
    "toolbox.register(\"populationCreator\", grape.sensible_initialisation, creator.Individual)\n",
    "toolbox.register(\"evaluate\", fitness)\n",
    "toolbox.register(\"select\", tools.selTournament, tournsize=7)\n",
    "toolbox.register(\"mate\", grape.crossover_onepoint)\n",
    "toolbox.register(\"mutate\", grape.mutation_int_flip_per_codon)"
   ]
  },
  {
   "cell_type": "markdown",
   "metadata": {},
   "source": [
    "### Data"
   ]
  },
  {
   "cell_type": "code",
   "execution_count": 11,
   "metadata": {},
   "outputs": [],
   "source": [
    "# train data\n",
    "X_train = trainDf.drop(columns=[\"output\"])\n",
    "y_train = trainDf[\"output\"].to_numpy()\n",
    "\n"
   ]
  },
  {
   "cell_type": "code",
   "execution_count": 12,
   "metadata": {},
   "outputs": [
    {
     "name": "stderr",
     "output_type": "stream",
     "text": [
      "/home/tu/code-py/evolutionary-computation/grape/algorithms.py:124: UserWarning: Warning: There are valid individuals with fitness = NaN in the population. We will avoid them.\n",
      "  warnings.warn(\"Warning: There are valid individuals with fitness = NaN in the population. We will avoid them.\")\n"
     ]
    },
    {
     "name": "stdout",
     "output_type": "stream",
     "text": [
      "gen = 0 , Best fitness = (np.float64(0.29432764775882586),)\n",
      "gen = 1 , Best fitness = (np.float64(0.2901626338754463),) , Number of invalids = 287\n"
     ]
    },
    {
     "name": "stderr",
     "output_type": "stream",
     "text": [
      "/home/tu/code-py/evolutionary-computation/grape/algorithms.py:243: UserWarning: Warning: There are valid individuals with fitness = NaN in the population. We will avoid in the statistics.\n",
      "  warnings.warn(\"Warning: There are valid individuals with fitness = NaN in the population. We will avoid in the statistics.\")\n"
     ]
    },
    {
     "name": "stdout",
     "output_type": "stream",
     "text": [
      "gen = 2 , Best fitness = (np.float64(0.2901626338754463),) , Number of invalids = 140\n"
     ]
    },
    {
     "name": "stderr",
     "output_type": "stream",
     "text": [
      "/home/tu/code-py/evolutionary-computation/grape/algorithms.py:243: UserWarning: Warning: There are valid individuals with fitness = NaN in the population. We will avoid in the statistics.\n",
      "  warnings.warn(\"Warning: There are valid individuals with fitness = NaN in the population. We will avoid in the statistics.\")\n"
     ]
    },
    {
     "name": "stdout",
     "output_type": "stream",
     "text": [
      "gen = 3 , Best fitness = (np.float64(0.2901626338754463),) , Number of invalids = 106\n"
     ]
    },
    {
     "name": "stderr",
     "output_type": "stream",
     "text": [
      "/home/tu/code-py/evolutionary-computation/grape/algorithms.py:243: UserWarning: Warning: There are valid individuals with fitness = NaN in the population. We will avoid in the statistics.\n",
      "  warnings.warn(\"Warning: There are valid individuals with fitness = NaN in the population. We will avoid in the statistics.\")\n"
     ]
    },
    {
     "name": "stdout",
     "output_type": "stream",
     "text": [
      "gen = 4 , Best fitness = (np.float64(0.2901626338754463),) , Number of invalids = 163\n"
     ]
    },
    {
     "name": "stderr",
     "output_type": "stream",
     "text": [
      "/home/tu/code-py/evolutionary-computation/grape/algorithms.py:243: UserWarning: Warning: There are valid individuals with fitness = NaN in the population. We will avoid in the statistics.\n",
      "  warnings.warn(\"Warning: There are valid individuals with fitness = NaN in the population. We will avoid in the statistics.\")\n"
     ]
    },
    {
     "name": "stdout",
     "output_type": "stream",
     "text": [
      "gen = 5 , Best fitness = (np.float64(0.2899642998809996),) , Number of invalids = 192\n"
     ]
    },
    {
     "name": "stderr",
     "output_type": "stream",
     "text": [
      "/home/tu/code-py/evolutionary-computation/grape/algorithms.py:243: UserWarning: Warning: There are valid individuals with fitness = NaN in the population. We will avoid in the statistics.\n",
      "  warnings.warn(\"Warning: There are valid individuals with fitness = NaN in the population. We will avoid in the statistics.\")\n"
     ]
    },
    {
     "name": "stdout",
     "output_type": "stream",
     "text": [
      "gen = 6 , Best fitness = (np.float64(0.2899642998809996),) , Number of invalids = 218\n"
     ]
    },
    {
     "name": "stderr",
     "output_type": "stream",
     "text": [
      "/home/tu/code-py/evolutionary-computation/grape/algorithms.py:243: UserWarning: Warning: There are valid individuals with fitness = NaN in the population. We will avoid in the statistics.\n",
      "  warnings.warn(\"Warning: There are valid individuals with fitness = NaN in the population. We will avoid in the statistics.\")\n"
     ]
    },
    {
     "name": "stdout",
     "output_type": "stream",
     "text": [
      "gen = 7 , Best fitness = (np.float64(0.2889726299087664),) , Number of invalids = 244\n"
     ]
    },
    {
     "name": "stderr",
     "output_type": "stream",
     "text": [
      "/home/tu/code-py/evolutionary-computation/grape/algorithms.py:243: UserWarning: Warning: There are valid individuals with fitness = NaN in the population. We will avoid in the statistics.\n",
      "  warnings.warn(\"Warning: There are valid individuals with fitness = NaN in the population. We will avoid in the statistics.\")\n"
     ]
    },
    {
     "name": "stdout",
     "output_type": "stream",
     "text": [
      "gen = 8 , Best fitness = (np.float64(0.2881792939309798),) , Number of invalids = 253\n",
      "gen = 9 , Best fitness = (np.float64(0.28639428798095995),) , Number of invalids = 303\n"
     ]
    },
    {
     "name": "stderr",
     "output_type": "stream",
     "text": [
      "/home/tu/code-py/evolutionary-computation/grape/algorithms.py:243: UserWarning: Warning: There are valid individuals with fitness = NaN in the population. We will avoid in the statistics.\n",
      "  warnings.warn(\"Warning: There are valid individuals with fitness = NaN in the population. We will avoid in the statistics.\")\n"
     ]
    },
    {
     "name": "stdout",
     "output_type": "stream",
     "text": [
      "gen = 10 , Best fitness = (np.float64(0.2846092820309401),) , Number of invalids = 254\n",
      "gen = 11 , Best fitness = (np.float64(0.2842126140420468),) , Number of invalids = 326\n"
     ]
    },
    {
     "name": "stderr",
     "output_type": "stream",
     "text": [
      "/home/tu/code-py/evolutionary-computation/grape/algorithms.py:243: UserWarning: Warning: There are valid individuals with fitness = NaN in the population. We will avoid in the statistics.\n",
      "  warnings.warn(\"Warning: There are valid individuals with fitness = NaN in the population. We will avoid in the statistics.\")\n"
     ]
    },
    {
     "name": "stdout",
     "output_type": "stream",
     "text": [
      "gen = 12 , Best fitness = (np.float64(0.2834192780642602),) , Number of invalids = 326\n"
     ]
    },
    {
     "name": "stderr",
     "output_type": "stream",
     "text": [
      "/home/tu/code-py/evolutionary-computation/grape/algorithms.py:243: UserWarning: Warning: There are valid individuals with fitness = NaN in the population. We will avoid in the statistics.\n",
      "  warnings.warn(\"Warning: There are valid individuals with fitness = NaN in the population. We will avoid in the statistics.\")\n"
     ]
    },
    {
     "name": "stdout",
     "output_type": "stream",
     "text": [
      "gen = 13 , Best fitness = (np.float64(0.2834192780642602),) , Number of invalids = 338\n"
     ]
    },
    {
     "name": "stderr",
     "output_type": "stream",
     "text": [
      "/home/tu/code-py/evolutionary-computation/grape/algorithms.py:243: UserWarning: Warning: There are valid individuals with fitness = NaN in the population. We will avoid in the statistics.\n",
      "  warnings.warn(\"Warning: There are valid individuals with fitness = NaN in the population. We will avoid in the statistics.\")\n"
     ]
    },
    {
     "name": "stdout",
     "output_type": "stream",
     "text": [
      "gen = 14 , Best fitness = (np.float64(0.28302261007536694),) , Number of invalids = 316\n"
     ]
    },
    {
     "name": "stderr",
     "output_type": "stream",
     "text": [
      "/home/tu/code-py/evolutionary-computation/grape/algorithms.py:243: UserWarning: Warning: There are valid individuals with fitness = NaN in the population. We will avoid in the statistics.\n",
      "  warnings.warn(\"Warning: There are valid individuals with fitness = NaN in the population. We will avoid in the statistics.\")\n"
     ]
    },
    {
     "name": "stdout",
     "output_type": "stream",
     "text": [
      "gen = 15 , Best fitness = (np.float64(0.2796509321697739),) , Number of invalids = 260\n"
     ]
    },
    {
     "name": "stderr",
     "output_type": "stream",
     "text": [
      "/home/tu/code-py/evolutionary-computation/grape/algorithms.py:243: UserWarning: Warning: There are valid individuals with fitness = NaN in the population. We will avoid in the statistics.\n",
      "  warnings.warn(\"Warning: There are valid individuals with fitness = NaN in the population. We will avoid in the statistics.\")\n"
     ]
    },
    {
     "name": "stdout",
     "output_type": "stream",
     "text": [
      "gen = 16 , Best fitness = (np.float64(0.2796509321697739),) , Number of invalids = 274\n"
     ]
    },
    {
     "name": "stderr",
     "output_type": "stream",
     "text": [
      "/home/tu/code-py/evolutionary-computation/grape/algorithms.py:243: UserWarning: Warning: There are valid individuals with fitness = NaN in the population. We will avoid in the statistics.\n",
      "  warnings.warn(\"Warning: There are valid individuals with fitness = NaN in the population. We will avoid in the statistics.\")\n"
     ]
    },
    {
     "name": "stdout",
     "output_type": "stream",
     "text": [
      "gen = 17 , Best fitness = (np.float64(0.2796509321697739),) , Number of invalids = 320\n"
     ]
    },
    {
     "name": "stderr",
     "output_type": "stream",
     "text": [
      "/home/tu/code-py/evolutionary-computation/grape/algorithms.py:243: UserWarning: Warning: There are valid individuals with fitness = NaN in the population. We will avoid in the statistics.\n",
      "  warnings.warn(\"Warning: There are valid individuals with fitness = NaN in the population. We will avoid in the statistics.\")\n"
     ]
    },
    {
     "name": "stdout",
     "output_type": "stream",
     "text": [
      "gen = 18 , Best fitness = (np.float64(0.2796509321697739),) , Number of invalids = 344\n"
     ]
    },
    {
     "name": "stderr",
     "output_type": "stream",
     "text": [
      "/home/tu/code-py/evolutionary-computation/grape/algorithms.py:243: UserWarning: Warning: There are valid individuals with fitness = NaN in the population. We will avoid in the statistics.\n",
      "  warnings.warn(\"Warning: There are valid individuals with fitness = NaN in the population. We will avoid in the statistics.\")\n"
     ]
    },
    {
     "name": "stdout",
     "output_type": "stream",
     "text": [
      "gen = 19 , Best fitness = (np.float64(0.27370091233637445),) , Number of invalids = 342\n",
      "gen = 20 , Best fitness = (np.float64(0.27370091233637445),) , Number of invalids = 355\n"
     ]
    },
    {
     "name": "stderr",
     "output_type": "stream",
     "text": [
      "/home/tu/code-py/evolutionary-computation/grape/algorithms.py:243: UserWarning: Warning: There are valid individuals with fitness = NaN in the population. We will avoid in the statistics.\n",
      "  warnings.warn(\"Warning: There are valid individuals with fitness = NaN in the population. We will avoid in the statistics.\")\n"
     ]
    },
    {
     "name": "stdout",
     "output_type": "stream",
     "text": [
      "gen = 21 , Best fitness = (np.float64(0.27370091233637445),) , Number of invalids = 329\n",
      "gen = 22 , Best fitness = (np.float64(0.2735025783419278),) , Number of invalids = 337\n"
     ]
    },
    {
     "name": "stderr",
     "output_type": "stream",
     "text": [
      "/home/tu/code-py/evolutionary-computation/grape/algorithms.py:243: UserWarning: Warning: There are valid individuals with fitness = NaN in the population. We will avoid in the statistics.\n",
      "  warnings.warn(\"Warning: There are valid individuals with fitness = NaN in the population. We will avoid in the statistics.\")\n"
     ]
    },
    {
     "name": "stdout",
     "output_type": "stream",
     "text": [
      "gen = 23 , Best fitness = (np.float64(0.26576755255850854),) , Number of invalids = 320\n",
      "gen = 24 , Best fitness = (np.float64(0.26576755255850854),) , Number of invalids = 298\n"
     ]
    },
    {
     "name": "stderr",
     "output_type": "stream",
     "text": [
      "/home/tu/code-py/evolutionary-computation/grape/algorithms.py:243: UserWarning: Warning: There are valid individuals with fitness = NaN in the population. We will avoid in the statistics.\n",
      "  warnings.warn(\"Warning: There are valid individuals with fitness = NaN in the population. We will avoid in the statistics.\")\n"
     ]
    },
    {
     "name": "stdout",
     "output_type": "stream",
     "text": [
      "gen = 25 , Best fitness = (np.float64(0.26576755255850854),) , Number of invalids = 304\n"
     ]
    },
    {
     "name": "stderr",
     "output_type": "stream",
     "text": [
      "/home/tu/code-py/evolutionary-computation/grape/algorithms.py:243: UserWarning: Warning: There are valid individuals with fitness = NaN in the population. We will avoid in the statistics.\n",
      "  warnings.warn(\"Warning: There are valid individuals with fitness = NaN in the population. We will avoid in the statistics.\")\n"
     ]
    },
    {
     "name": "stdout",
     "output_type": "stream",
     "text": [
      "gen = 26 , Best fitness = (np.float64(0.26576755255850854),) , Number of invalids = 241\n"
     ]
    },
    {
     "name": "stderr",
     "output_type": "stream",
     "text": [
      "/home/tu/code-py/evolutionary-computation/grape/algorithms.py:243: UserWarning: Warning: There are valid individuals with fitness = NaN in the population. We will avoid in the statistics.\n",
      "  warnings.warn(\"Warning: There are valid individuals with fitness = NaN in the population. We will avoid in the statistics.\")\n"
     ]
    },
    {
     "name": "stdout",
     "output_type": "stream",
     "text": [
      "gen = 27 , Best fitness = (np.float64(0.26576755255850854),) , Number of invalids = 228\n"
     ]
    },
    {
     "name": "stderr",
     "output_type": "stream",
     "text": [
      "/home/tu/code-py/evolutionary-computation/grape/algorithms.py:243: UserWarning: Warning: There are valid individuals with fitness = NaN in the population. We will avoid in the statistics.\n",
      "  warnings.warn(\"Warning: There are valid individuals with fitness = NaN in the population. We will avoid in the statistics.\")\n"
     ]
    },
    {
     "name": "stdout",
     "output_type": "stream",
     "text": [
      "gen = 28 , Best fitness = (np.float64(0.26576755255850854),) , Number of invalids = 240\n",
      "gen = 29 , Best fitness = (np.float64(0.2655692185640619),) , Number of invalids = 249\n"
     ]
    },
    {
     "name": "stderr",
     "output_type": "stream",
     "text": [
      "/home/tu/code-py/evolutionary-computation/grape/algorithms.py:243: UserWarning: Warning: There are valid individuals with fitness = NaN in the population. We will avoid in the statistics.\n",
      "  warnings.warn(\"Warning: There are valid individuals with fitness = NaN in the population. We will avoid in the statistics.\")\n"
     ]
    },
    {
     "name": "stdout",
     "output_type": "stream",
     "text": [
      "gen = 30 , Best fitness = (np.float64(0.2641808806029353),) , Number of invalids = 248\n"
     ]
    },
    {
     "name": "stderr",
     "output_type": "stream",
     "text": [
      "/home/tu/code-py/evolutionary-computation/grape/algorithms.py:243: UserWarning: Warning: There are valid individuals with fitness = NaN in the population. We will avoid in the statistics.\n",
      "  warnings.warn(\"Warning: There are valid individuals with fitness = NaN in the population. We will avoid in the statistics.\")\n"
     ]
    },
    {
     "name": "stdout",
     "output_type": "stream",
     "text": [
      "gen = 31 , Best fitness = (np.float64(0.26338754462514874),) , Number of invalids = 250\n"
     ]
    },
    {
     "name": "stderr",
     "output_type": "stream",
     "text": [
      "/home/tu/code-py/evolutionary-computation/grape/algorithms.py:243: UserWarning: Warning: There are valid individuals with fitness = NaN in the population. We will avoid in the statistics.\n",
      "  warnings.warn(\"Warning: There are valid individuals with fitness = NaN in the population. We will avoid in the statistics.\")\n"
     ]
    },
    {
     "name": "stdout",
     "output_type": "stream",
     "text": [
      "gen = 32 , Best fitness = (np.float64(0.26338754462514874),) , Number of invalids = 245\n"
     ]
    },
    {
     "name": "stderr",
     "output_type": "stream",
     "text": [
      "/home/tu/code-py/evolutionary-computation/grape/algorithms.py:243: UserWarning: Warning: There are valid individuals with fitness = NaN in the population. We will avoid in the statistics.\n",
      "  warnings.warn(\"Warning: There are valid individuals with fitness = NaN in the population. We will avoid in the statistics.\")\n"
     ]
    },
    {
     "name": "stdout",
     "output_type": "stream",
     "text": [
      "gen = 33 , Best fitness = (np.float64(0.2618008726695756),) , Number of invalids = 231\n"
     ]
    },
    {
     "name": "stderr",
     "output_type": "stream",
     "text": [
      "/home/tu/code-py/evolutionary-computation/grape/algorithms.py:243: UserWarning: Warning: There are valid individuals with fitness = NaN in the population. We will avoid in the statistics.\n",
      "  warnings.warn(\"Warning: There are valid individuals with fitness = NaN in the population. We will avoid in the statistics.\")\n"
     ]
    },
    {
     "name": "stdout",
     "output_type": "stream",
     "text": [
      "gen = 34 , Best fitness = (np.float64(0.26120587068623563),) , Number of invalids = 181\n"
     ]
    },
    {
     "name": "stderr",
     "output_type": "stream",
     "text": [
      "/home/tu/code-py/evolutionary-computation/grape/algorithms.py:243: UserWarning: Warning: There are valid individuals with fitness = NaN in the population. We will avoid in the statistics.\n",
      "  warnings.warn(\"Warning: There are valid individuals with fitness = NaN in the population. We will avoid in the statistics.\")\n"
     ]
    },
    {
     "name": "stdout",
     "output_type": "stream",
     "text": [
      "gen = 35 , Best fitness = (np.float64(0.26001586671955573),) , Number of invalids = 141\n"
     ]
    },
    {
     "name": "stderr",
     "output_type": "stream",
     "text": [
      "/home/tu/code-py/evolutionary-computation/grape/algorithms.py:243: UserWarning: Warning: There are valid individuals with fitness = NaN in the population. We will avoid in the statistics.\n",
      "  warnings.warn(\"Warning: There are valid individuals with fitness = NaN in the population. We will avoid in the statistics.\")\n"
     ]
    },
    {
     "name": "stdout",
     "output_type": "stream",
     "text": [
      "gen = 36 , Best fitness = (np.float64(0.26001586671955573),) , Number of invalids = 139\n"
     ]
    },
    {
     "name": "stderr",
     "output_type": "stream",
     "text": [
      "/home/tu/code-py/evolutionary-computation/grape/algorithms.py:243: UserWarning: Warning: There are valid individuals with fitness = NaN in the population. We will avoid in the statistics.\n",
      "  warnings.warn(\"Warning: There are valid individuals with fitness = NaN in the population. We will avoid in the statistics.\")\n"
     ]
    },
    {
     "name": "stdout",
     "output_type": "stream",
     "text": [
      "gen = 37 , Best fitness = (np.float64(0.26001586671955573),) , Number of invalids = 127\n"
     ]
    },
    {
     "name": "stderr",
     "output_type": "stream",
     "text": [
      "/home/tu/code-py/evolutionary-computation/grape/algorithms.py:243: UserWarning: Warning: There are valid individuals with fitness = NaN in the population. We will avoid in the statistics.\n",
      "  warnings.warn(\"Warning: There are valid individuals with fitness = NaN in the population. We will avoid in the statistics.\")\n"
     ]
    },
    {
     "name": "stdout",
     "output_type": "stream",
     "text": [
      "gen = 38 , Best fitness = (np.float64(0.26001586671955573),) , Number of invalids = 132\n"
     ]
    },
    {
     "name": "stderr",
     "output_type": "stream",
     "text": [
      "/home/tu/code-py/evolutionary-computation/grape/algorithms.py:243: UserWarning: Warning: There are valid individuals with fitness = NaN in the population. We will avoid in the statistics.\n",
      "  warnings.warn(\"Warning: There are valid individuals with fitness = NaN in the population. We will avoid in the statistics.\")\n"
     ]
    },
    {
     "name": "stdout",
     "output_type": "stream",
     "text": [
      "gen = 39 , Best fitness = (np.float64(0.2582308607695359),) , Number of invalids = 109\n",
      "gen = 40 , Best fitness = (np.float64(0.2582308607695359),) , Number of invalids = 108\n"
     ]
    },
    {
     "name": "stderr",
     "output_type": "stream",
     "text": [
      "/home/tu/code-py/evolutionary-computation/grape/algorithms.py:243: UserWarning: Warning: There are valid individuals with fitness = NaN in the population. We will avoid in the statistics.\n",
      "  warnings.warn(\"Warning: There are valid individuals with fitness = NaN in the population. We will avoid in the statistics.\")\n"
     ]
    },
    {
     "name": "stdout",
     "output_type": "stream",
     "text": [
      "gen = 41 , Best fitness = (np.float64(0.2574375247917493),) , Number of invalids = 110\n"
     ]
    },
    {
     "name": "stderr",
     "output_type": "stream",
     "text": [
      "/home/tu/code-py/evolutionary-computation/grape/algorithms.py:243: UserWarning: Warning: There are valid individuals with fitness = NaN in the population. We will avoid in the statistics.\n",
      "  warnings.warn(\"Warning: There are valid individuals with fitness = NaN in the population. We will avoid in the statistics.\")\n"
     ]
    },
    {
     "name": "stdout",
     "output_type": "stream",
     "text": [
      "gen = 42 , Best fitness = (np.float64(0.2574375247917493),) , Number of invalids = 86\n"
     ]
    },
    {
     "name": "stderr",
     "output_type": "stream",
     "text": [
      "/home/tu/code-py/evolutionary-computation/grape/algorithms.py:243: UserWarning: Warning: There are valid individuals with fitness = NaN in the population. We will avoid in the statistics.\n",
      "  warnings.warn(\"Warning: There are valid individuals with fitness = NaN in the population. We will avoid in the statistics.\")\n"
     ]
    },
    {
     "name": "stdout",
     "output_type": "stream",
     "text": [
      "gen = 43 , Best fitness = (np.float64(0.2574375247917493),) , Number of invalids = 92\n"
     ]
    },
    {
     "name": "stderr",
     "output_type": "stream",
     "text": [
      "/home/tu/code-py/evolutionary-computation/grape/algorithms.py:243: UserWarning: Warning: There are valid individuals with fitness = NaN in the population. We will avoid in the statistics.\n",
      "  warnings.warn(\"Warning: There are valid individuals with fitness = NaN in the population. We will avoid in the statistics.\")\n"
     ]
    },
    {
     "name": "stdout",
     "output_type": "stream",
     "text": [
      "gen = 44 , Best fitness = (np.float64(0.2574375247917493),) , Number of invalids = 79\n",
      "gen = 45 , Best fitness = (np.float64(0.2574375247917493),) , Number of invalids = 59\n"
     ]
    },
    {
     "name": "stderr",
     "output_type": "stream",
     "text": [
      "/home/tu/code-py/evolutionary-computation/grape/algorithms.py:243: UserWarning: Warning: There are valid individuals with fitness = NaN in the population. We will avoid in the statistics.\n",
      "  warnings.warn(\"Warning: There are valid individuals with fitness = NaN in the population. We will avoid in the statistics.\")\n"
     ]
    },
    {
     "name": "stdout",
     "output_type": "stream",
     "text": [
      "gen = 46 , Best fitness = (np.float64(0.2574375247917493),) , Number of invalids = 53\n"
     ]
    },
    {
     "name": "stderr",
     "output_type": "stream",
     "text": [
      "/home/tu/code-py/evolutionary-computation/grape/algorithms.py:243: UserWarning: Warning: There are valid individuals with fitness = NaN in the population. We will avoid in the statistics.\n",
      "  warnings.warn(\"Warning: There are valid individuals with fitness = NaN in the population. We will avoid in the statistics.\")\n"
     ]
    },
    {
     "name": "stdout",
     "output_type": "stream",
     "text": [
      "gen = 47 , Best fitness = (np.float64(0.2574375247917493),) , Number of invalids = 43\n"
     ]
    },
    {
     "name": "stderr",
     "output_type": "stream",
     "text": [
      "/home/tu/code-py/evolutionary-computation/grape/algorithms.py:243: UserWarning: Warning: There are valid individuals with fitness = NaN in the population. We will avoid in the statistics.\n",
      "  warnings.warn(\"Warning: There are valid individuals with fitness = NaN in the population. We will avoid in the statistics.\")\n"
     ]
    },
    {
     "name": "stdout",
     "output_type": "stream",
     "text": [
      "gen = 48 , Best fitness = (np.float64(0.25684252280840936),) , Number of invalids = 50\n"
     ]
    },
    {
     "name": "stderr",
     "output_type": "stream",
     "text": [
      "/home/tu/code-py/evolutionary-computation/grape/algorithms.py:243: UserWarning: Warning: There are valid individuals with fitness = NaN in the population. We will avoid in the statistics.\n",
      "  warnings.warn(\"Warning: There are valid individuals with fitness = NaN in the population. We will avoid in the statistics.\")\n"
     ]
    },
    {
     "name": "stdout",
     "output_type": "stream",
     "text": [
      "gen = 49 , Best fitness = (np.float64(0.25684252280840936),) , Number of invalids = 48\n"
     ]
    },
    {
     "name": "stderr",
     "output_type": "stream",
     "text": [
      "/home/tu/code-py/evolutionary-computation/grape/algorithms.py:243: UserWarning: Warning: There are valid individuals with fitness = NaN in the population. We will avoid in the statistics.\n",
      "  warnings.warn(\"Warning: There are valid individuals with fitness = NaN in the population. We will avoid in the statistics.\")\n"
     ]
    },
    {
     "name": "stdout",
     "output_type": "stream",
     "text": [
      "gen = 50 , Best fitness = (np.float64(0.25684252280840936),) , Number of invalids = 50\n",
      "gen = 51 , Best fitness = (np.float64(0.25684252280840936),) , Number of invalids = 38\n"
     ]
    },
    {
     "name": "stderr",
     "output_type": "stream",
     "text": [
      "/home/tu/code-py/evolutionary-computation/grape/algorithms.py:243: UserWarning: Warning: There are valid individuals with fitness = NaN in the population. We will avoid in the statistics.\n",
      "  warnings.warn(\"Warning: There are valid individuals with fitness = NaN in the population. We will avoid in the statistics.\")\n"
     ]
    },
    {
     "name": "stdout",
     "output_type": "stream",
     "text": [
      "gen = 52 , Best fitness = (np.float64(0.25684252280840936),) , Number of invalids = 40\n"
     ]
    },
    {
     "name": "stderr",
     "output_type": "stream",
     "text": [
      "/home/tu/code-py/evolutionary-computation/grape/algorithms.py:243: UserWarning: Warning: There are valid individuals with fitness = NaN in the population. We will avoid in the statistics.\n",
      "  warnings.warn(\"Warning: There are valid individuals with fitness = NaN in the population. We will avoid in the statistics.\")\n"
     ]
    },
    {
     "name": "stdout",
     "output_type": "stream",
     "text": [
      "gen = 53 , Best fitness = (np.float64(0.25684252280840936),) , Number of invalids = 42\n"
     ]
    },
    {
     "name": "stderr",
     "output_type": "stream",
     "text": [
      "/home/tu/code-py/evolutionary-computation/grape/algorithms.py:243: UserWarning: Warning: There are valid individuals with fitness = NaN in the population. We will avoid in the statistics.\n",
      "  warnings.warn(\"Warning: There are valid individuals with fitness = NaN in the population. We will avoid in the statistics.\")\n"
     ]
    },
    {
     "name": "stdout",
     "output_type": "stream",
     "text": [
      "gen = 54 , Best fitness = (np.float64(0.25684252280840936),) , Number of invalids = 32\n"
     ]
    },
    {
     "name": "stderr",
     "output_type": "stream",
     "text": [
      "/home/tu/code-py/evolutionary-computation/grape/algorithms.py:243: UserWarning: Warning: There are valid individuals with fitness = NaN in the population. We will avoid in the statistics.\n",
      "  warnings.warn(\"Warning: There are valid individuals with fitness = NaN in the population. We will avoid in the statistics.\")\n"
     ]
    },
    {
     "name": "stdout",
     "output_type": "stream",
     "text": [
      "gen = 55 , Best fitness = (np.float64(0.25684252280840936),) , Number of invalids = 25\n"
     ]
    },
    {
     "name": "stderr",
     "output_type": "stream",
     "text": [
      "/home/tu/code-py/evolutionary-computation/grape/algorithms.py:243: UserWarning: Warning: There are valid individuals with fitness = NaN in the population. We will avoid in the statistics.\n",
      "  warnings.warn(\"Warning: There are valid individuals with fitness = NaN in the population. We will avoid in the statistics.\")\n"
     ]
    },
    {
     "name": "stdout",
     "output_type": "stream",
     "text": [
      "gen = 56 , Best fitness = (np.float64(0.25684252280840936),) , Number of invalids = 22\n"
     ]
    },
    {
     "name": "stderr",
     "output_type": "stream",
     "text": [
      "/home/tu/code-py/evolutionary-computation/grape/algorithms.py:243: UserWarning: Warning: There are valid individuals with fitness = NaN in the population. We will avoid in the statistics.\n",
      "  warnings.warn(\"Warning: There are valid individuals with fitness = NaN in the population. We will avoid in the statistics.\")\n"
     ]
    },
    {
     "name": "stdout",
     "output_type": "stream",
     "text": [
      "gen = 57 , Best fitness = (np.float64(0.2560491868306228),) , Number of invalids = 27\n"
     ]
    },
    {
     "name": "stderr",
     "output_type": "stream",
     "text": [
      "/home/tu/code-py/evolutionary-computation/grape/algorithms.py:243: UserWarning: Warning: There are valid individuals with fitness = NaN in the population. We will avoid in the statistics.\n",
      "  warnings.warn(\"Warning: There are valid individuals with fitness = NaN in the population. We will avoid in the statistics.\")\n"
     ]
    },
    {
     "name": "stdout",
     "output_type": "stream",
     "text": [
      "gen = 58 , Best fitness = (np.float64(0.2560491868306228),) , Number of invalids = 19\n"
     ]
    },
    {
     "name": "stderr",
     "output_type": "stream",
     "text": [
      "/home/tu/code-py/evolutionary-computation/grape/algorithms.py:243: UserWarning: Warning: There are valid individuals with fitness = NaN in the population. We will avoid in the statistics.\n",
      "  warnings.warn(\"Warning: There are valid individuals with fitness = NaN in the population. We will avoid in the statistics.\")\n"
     ]
    },
    {
     "name": "stdout",
     "output_type": "stream",
     "text": [
      "gen = 59 , Best fitness = (np.float64(0.2560491868306228),) , Number of invalids = 25\n"
     ]
    },
    {
     "name": "stderr",
     "output_type": "stream",
     "text": [
      "/home/tu/code-py/evolutionary-computation/grape/algorithms.py:243: UserWarning: Warning: There are valid individuals with fitness = NaN in the population. We will avoid in the statistics.\n",
      "  warnings.warn(\"Warning: There are valid individuals with fitness = NaN in the population. We will avoid in the statistics.\")\n"
     ]
    },
    {
     "name": "stdout",
     "output_type": "stream",
     "text": [
      "gen = 60 , Best fitness = (np.float64(0.2560491868306228),) , Number of invalids = 19\n",
      "gen = 61 , Best fitness = (np.float64(0.2560491868306228),) , Number of invalids = 16\n",
      "gen = 62 , Best fitness = (np.float64(0.2560491868306228),) , Number of invalids = 20\n"
     ]
    },
    {
     "name": "stderr",
     "output_type": "stream",
     "text": [
      "/home/tu/code-py/evolutionary-computation/grape/algorithms.py:243: UserWarning: Warning: There are valid individuals with fitness = NaN in the population. We will avoid in the statistics.\n",
      "  warnings.warn(\"Warning: There are valid individuals with fitness = NaN in the population. We will avoid in the statistics.\")\n"
     ]
    },
    {
     "name": "stdout",
     "output_type": "stream",
     "text": [
      "gen = 63 , Best fitness = (np.float64(0.2560491868306228),) , Number of invalids = 17\n"
     ]
    },
    {
     "name": "stderr",
     "output_type": "stream",
     "text": [
      "/home/tu/code-py/evolutionary-computation/grape/algorithms.py:243: UserWarning: Warning: There are valid individuals with fitness = NaN in the population. We will avoid in the statistics.\n",
      "  warnings.warn(\"Warning: There are valid individuals with fitness = NaN in the population. We will avoid in the statistics.\")\n"
     ]
    },
    {
     "name": "stdout",
     "output_type": "stream",
     "text": [
      "gen = 64 , Best fitness = (np.float64(0.2560491868306228),) , Number of invalids = 20\n"
     ]
    },
    {
     "name": "stderr",
     "output_type": "stream",
     "text": [
      "/home/tu/code-py/evolutionary-computation/grape/algorithms.py:243: UserWarning: Warning: There are valid individuals with fitness = NaN in the population. We will avoid in the statistics.\n",
      "  warnings.warn(\"Warning: There are valid individuals with fitness = NaN in the population. We will avoid in the statistics.\")\n"
     ]
    },
    {
     "name": "stdout",
     "output_type": "stream",
     "text": [
      "gen = 65 , Best fitness = (np.float64(0.2560491868306228),) , Number of invalids = 19\n"
     ]
    },
    {
     "name": "stderr",
     "output_type": "stream",
     "text": [
      "/home/tu/code-py/evolutionary-computation/grape/algorithms.py:243: UserWarning: Warning: There are valid individuals with fitness = NaN in the population. We will avoid in the statistics.\n",
      "  warnings.warn(\"Warning: There are valid individuals with fitness = NaN in the population. We will avoid in the statistics.\")\n"
     ]
    },
    {
     "name": "stdout",
     "output_type": "stream",
     "text": [
      "gen = 66 , Best fitness = (np.float64(0.2560491868306228),) , Number of invalids = 16\n"
     ]
    },
    {
     "name": "stderr",
     "output_type": "stream",
     "text": [
      "/home/tu/code-py/evolutionary-computation/grape/algorithms.py:243: UserWarning: Warning: There are valid individuals with fitness = NaN in the population. We will avoid in the statistics.\n",
      "  warnings.warn(\"Warning: There are valid individuals with fitness = NaN in the population. We will avoid in the statistics.\")\n"
     ]
    },
    {
     "name": "stdout",
     "output_type": "stream",
     "text": [
      "gen = 67 , Best fitness = (np.float64(0.25585085283617615),) , Number of invalids = 19\n"
     ]
    },
    {
     "name": "stderr",
     "output_type": "stream",
     "text": [
      "/home/tu/code-py/evolutionary-computation/grape/algorithms.py:243: UserWarning: Warning: There are valid individuals with fitness = NaN in the population. We will avoid in the statistics.\n",
      "  warnings.warn(\"Warning: There are valid individuals with fitness = NaN in the population. We will avoid in the statistics.\")\n"
     ]
    },
    {
     "name": "stdout",
     "output_type": "stream",
     "text": [
      "gen = 68 , Best fitness = (np.float64(0.25585085283617615),) , Number of invalids = 10\n"
     ]
    },
    {
     "name": "stderr",
     "output_type": "stream",
     "text": [
      "/home/tu/code-py/evolutionary-computation/grape/algorithms.py:243: UserWarning: Warning: There are valid individuals with fitness = NaN in the population. We will avoid in the statistics.\n",
      "  warnings.warn(\"Warning: There are valid individuals with fitness = NaN in the population. We will avoid in the statistics.\")\n"
     ]
    },
    {
     "name": "stdout",
     "output_type": "stream",
     "text": [
      "gen = 69 , Best fitness = (np.float64(0.25585085283617615),) , Number of invalids = 15\n",
      "gen = 70 , Best fitness = (np.float64(0.25585085283617615),) , Number of invalids = 22\n"
     ]
    },
    {
     "name": "stderr",
     "output_type": "stream",
     "text": [
      "/home/tu/code-py/evolutionary-computation/grape/algorithms.py:243: UserWarning: Warning: There are valid individuals with fitness = NaN in the population. We will avoid in the statistics.\n",
      "  warnings.warn(\"Warning: There are valid individuals with fitness = NaN in the population. We will avoid in the statistics.\")\n"
     ]
    },
    {
     "name": "stdout",
     "output_type": "stream",
     "text": [
      "gen = 71 , Best fitness = (np.float64(0.25585085283617615),) , Number of invalids = 14\n"
     ]
    },
    {
     "name": "stderr",
     "output_type": "stream",
     "text": [
      "/home/tu/code-py/evolutionary-computation/grape/algorithms.py:243: UserWarning: Warning: There are valid individuals with fitness = NaN in the population. We will avoid in the statistics.\n",
      "  warnings.warn(\"Warning: There are valid individuals with fitness = NaN in the population. We will avoid in the statistics.\")\n"
     ]
    },
    {
     "name": "stdout",
     "output_type": "stream",
     "text": [
      "gen = 72 , Best fitness = (np.float64(0.25585085283617615),) , Number of invalids = 16\n"
     ]
    },
    {
     "name": "stderr",
     "output_type": "stream",
     "text": [
      "/home/tu/code-py/evolutionary-computation/grape/algorithms.py:243: UserWarning: Warning: There are valid individuals with fitness = NaN in the population. We will avoid in the statistics.\n",
      "  warnings.warn(\"Warning: There are valid individuals with fitness = NaN in the population. We will avoid in the statistics.\")\n"
     ]
    },
    {
     "name": "stdout",
     "output_type": "stream",
     "text": [
      "gen = 73 , Best fitness = (np.float64(0.25585085283617615),) , Number of invalids = 20\n"
     ]
    },
    {
     "name": "stderr",
     "output_type": "stream",
     "text": [
      "/home/tu/code-py/evolutionary-computation/grape/algorithms.py:243: UserWarning: Warning: There are valid individuals with fitness = NaN in the population. We will avoid in the statistics.\n",
      "  warnings.warn(\"Warning: There are valid individuals with fitness = NaN in the population. We will avoid in the statistics.\")\n"
     ]
    },
    {
     "name": "stdout",
     "output_type": "stream",
     "text": [
      "gen = 74 , Best fitness = (np.float64(0.25585085283617615),) , Number of invalids = 30\n"
     ]
    },
    {
     "name": "stderr",
     "output_type": "stream",
     "text": [
      "/home/tu/code-py/evolutionary-computation/grape/algorithms.py:243: UserWarning: Warning: There are valid individuals with fitness = NaN in the population. We will avoid in the statistics.\n",
      "  warnings.warn(\"Warning: There are valid individuals with fitness = NaN in the population. We will avoid in the statistics.\")\n"
     ]
    },
    {
     "name": "stdout",
     "output_type": "stream",
     "text": [
      "gen = 75 , Best fitness = (np.float64(0.25585085283617615),) , Number of invalids = 24\n"
     ]
    },
    {
     "name": "stderr",
     "output_type": "stream",
     "text": [
      "/home/tu/code-py/evolutionary-computation/grape/algorithms.py:243: UserWarning: Warning: There are valid individuals with fitness = NaN in the population. We will avoid in the statistics.\n",
      "  warnings.warn(\"Warning: There are valid individuals with fitness = NaN in the population. We will avoid in the statistics.\")\n"
     ]
    },
    {
     "name": "stdout",
     "output_type": "stream",
     "text": [
      "gen = 76 , Best fitness = (np.float64(0.25585085283617615),) , Number of invalids = 34\n"
     ]
    },
    {
     "name": "stderr",
     "output_type": "stream",
     "text": [
      "/home/tu/code-py/evolutionary-computation/grape/algorithms.py:243: UserWarning: Warning: There are valid individuals with fitness = NaN in the population. We will avoid in the statistics.\n",
      "  warnings.warn(\"Warning: There are valid individuals with fitness = NaN in the population. We will avoid in the statistics.\")\n"
     ]
    },
    {
     "name": "stdout",
     "output_type": "stream",
     "text": [
      "gen = 77 , Best fitness = (np.float64(0.25585085283617615),) , Number of invalids = 28\n"
     ]
    },
    {
     "name": "stderr",
     "output_type": "stream",
     "text": [
      "/home/tu/code-py/evolutionary-computation/grape/algorithms.py:243: UserWarning: Warning: There are valid individuals with fitness = NaN in the population. We will avoid in the statistics.\n",
      "  warnings.warn(\"Warning: There are valid individuals with fitness = NaN in the population. We will avoid in the statistics.\")\n"
     ]
    },
    {
     "name": "stdout",
     "output_type": "stream",
     "text": [
      "gen = 78 , Best fitness = (np.float64(0.25585085283617615),) , Number of invalids = 29\n",
      "gen = 79 , Best fitness = (np.float64(0.25565251884172946),) , Number of invalids = 30\n"
     ]
    },
    {
     "name": "stderr",
     "output_type": "stream",
     "text": [
      "/home/tu/code-py/evolutionary-computation/grape/algorithms.py:243: UserWarning: Warning: There are valid individuals with fitness = NaN in the population. We will avoid in the statistics.\n",
      "  warnings.warn(\"Warning: There are valid individuals with fitness = NaN in the population. We will avoid in the statistics.\")\n"
     ]
    },
    {
     "name": "stdout",
     "output_type": "stream",
     "text": [
      "gen = 80 , Best fitness = (np.float64(0.25565251884172946),) , Number of invalids = 25\n"
     ]
    },
    {
     "name": "stderr",
     "output_type": "stream",
     "text": [
      "/home/tu/code-py/evolutionary-computation/grape/algorithms.py:243: UserWarning: Warning: There are valid individuals with fitness = NaN in the population. We will avoid in the statistics.\n",
      "  warnings.warn(\"Warning: There are valid individuals with fitness = NaN in the population. We will avoid in the statistics.\")\n"
     ]
    },
    {
     "name": "stdout",
     "output_type": "stream",
     "text": [
      "gen = 81 , Best fitness = (np.float64(0.25565251884172946),) , Number of invalids = 23\n",
      "gen = 82 , Best fitness = (np.float64(0.25565251884172946),) , Number of invalids = 27\n"
     ]
    },
    {
     "name": "stderr",
     "output_type": "stream",
     "text": [
      "/home/tu/code-py/evolutionary-computation/grape/algorithms.py:243: UserWarning: Warning: There are valid individuals with fitness = NaN in the population. We will avoid in the statistics.\n",
      "  warnings.warn(\"Warning: There are valid individuals with fitness = NaN in the population. We will avoid in the statistics.\")\n"
     ]
    },
    {
     "name": "stdout",
     "output_type": "stream",
     "text": [
      "gen = 83 , Best fitness = (np.float64(0.25565251884172946),) , Number of invalids = 28\n"
     ]
    },
    {
     "name": "stderr",
     "output_type": "stream",
     "text": [
      "/home/tu/code-py/evolutionary-computation/grape/algorithms.py:243: UserWarning: Warning: There are valid individuals with fitness = NaN in the population. We will avoid in the statistics.\n",
      "  warnings.warn(\"Warning: There are valid individuals with fitness = NaN in the population. We will avoid in the statistics.\")\n"
     ]
    },
    {
     "name": "stdout",
     "output_type": "stream",
     "text": [
      "gen = 84 , Best fitness = (np.float64(0.25565251884172946),) , Number of invalids = 25\n"
     ]
    },
    {
     "name": "stderr",
     "output_type": "stream",
     "text": [
      "/home/tu/code-py/evolutionary-computation/grape/algorithms.py:243: UserWarning: Warning: There are valid individuals with fitness = NaN in the population. We will avoid in the statistics.\n",
      "  warnings.warn(\"Warning: There are valid individuals with fitness = NaN in the population. We will avoid in the statistics.\")\n"
     ]
    },
    {
     "name": "stdout",
     "output_type": "stream",
     "text": [
      "gen = 85 , Best fitness = (np.float64(0.25565251884172946),) , Number of invalids = 22\n"
     ]
    },
    {
     "name": "stderr",
     "output_type": "stream",
     "text": [
      "/home/tu/code-py/evolutionary-computation/grape/algorithms.py:243: UserWarning: Warning: There are valid individuals with fitness = NaN in the population. We will avoid in the statistics.\n",
      "  warnings.warn(\"Warning: There are valid individuals with fitness = NaN in the population. We will avoid in the statistics.\")\n"
     ]
    },
    {
     "name": "stdout",
     "output_type": "stream",
     "text": [
      "gen = 86 , Best fitness = (np.float64(0.25565251884172946),) , Number of invalids = 21\n"
     ]
    },
    {
     "name": "stderr",
     "output_type": "stream",
     "text": [
      "/home/tu/code-py/evolutionary-computation/grape/algorithms.py:243: UserWarning: Warning: There are valid individuals with fitness = NaN in the population. We will avoid in the statistics.\n",
      "  warnings.warn(\"Warning: There are valid individuals with fitness = NaN in the population. We will avoid in the statistics.\")\n"
     ]
    },
    {
     "name": "stdout",
     "output_type": "stream",
     "text": [
      "gen = 87 , Best fitness = (np.float64(0.25565251884172946),) , Number of invalids = 24\n"
     ]
    },
    {
     "name": "stderr",
     "output_type": "stream",
     "text": [
      "/home/tu/code-py/evolutionary-computation/grape/algorithms.py:243: UserWarning: Warning: There are valid individuals with fitness = NaN in the population. We will avoid in the statistics.\n",
      "  warnings.warn(\"Warning: There are valid individuals with fitness = NaN in the population. We will avoid in the statistics.\")\n"
     ]
    },
    {
     "name": "stdout",
     "output_type": "stream",
     "text": [
      "gen = 88 , Best fitness = (np.float64(0.25565251884172946),) , Number of invalids = 27\n",
      "gen = 89 , Best fitness = (np.float64(0.25565251884172946),) , Number of invalids = 26\n",
      "gen = 90 , Best fitness = (np.float64(0.25565251884172946),) , Number of invalids = 25\n",
      "gen = 91 , Best fitness = (np.float64(0.2548591828639429),) , Number of invalids = 37\n"
     ]
    },
    {
     "name": "stderr",
     "output_type": "stream",
     "text": [
      "/home/tu/code-py/evolutionary-computation/grape/algorithms.py:243: UserWarning: Warning: There are valid individuals with fitness = NaN in the population. We will avoid in the statistics.\n",
      "  warnings.warn(\"Warning: There are valid individuals with fitness = NaN in the population. We will avoid in the statistics.\")\n"
     ]
    },
    {
     "name": "stdout",
     "output_type": "stream",
     "text": [
      "gen = 92 , Best fitness = (np.float64(0.2548591828639429),) , Number of invalids = 33\n"
     ]
    },
    {
     "name": "stderr",
     "output_type": "stream",
     "text": [
      "/home/tu/code-py/evolutionary-computation/grape/algorithms.py:243: UserWarning: Warning: There are valid individuals with fitness = NaN in the population. We will avoid in the statistics.\n",
      "  warnings.warn(\"Warning: There are valid individuals with fitness = NaN in the population. We will avoid in the statistics.\")\n"
     ]
    },
    {
     "name": "stdout",
     "output_type": "stream",
     "text": [
      "gen = 93 , Best fitness = (np.float64(0.2548591828639429),) , Number of invalids = 30\n"
     ]
    },
    {
     "name": "stderr",
     "output_type": "stream",
     "text": [
      "/home/tu/code-py/evolutionary-computation/grape/algorithms.py:243: UserWarning: Warning: There are valid individuals with fitness = NaN in the population. We will avoid in the statistics.\n",
      "  warnings.warn(\"Warning: There are valid individuals with fitness = NaN in the population. We will avoid in the statistics.\")\n"
     ]
    },
    {
     "name": "stdout",
     "output_type": "stream",
     "text": [
      "gen = 94 , Best fitness = (np.float64(0.2548591828639429),) , Number of invalids = 21\n"
     ]
    },
    {
     "name": "stderr",
     "output_type": "stream",
     "text": [
      "/home/tu/code-py/evolutionary-computation/grape/algorithms.py:243: UserWarning: Warning: There are valid individuals with fitness = NaN in the population. We will avoid in the statistics.\n",
      "  warnings.warn(\"Warning: There are valid individuals with fitness = NaN in the population. We will avoid in the statistics.\")\n"
     ]
    },
    {
     "name": "stdout",
     "output_type": "stream",
     "text": [
      "gen = 95 , Best fitness = (np.float64(0.2548591828639429),) , Number of invalids = 27\n"
     ]
    },
    {
     "name": "stderr",
     "output_type": "stream",
     "text": [
      "/home/tu/code-py/evolutionary-computation/grape/algorithms.py:243: UserWarning: Warning: There are valid individuals with fitness = NaN in the population. We will avoid in the statistics.\n",
      "  warnings.warn(\"Warning: There are valid individuals with fitness = NaN in the population. We will avoid in the statistics.\")\n"
     ]
    },
    {
     "name": "stdout",
     "output_type": "stream",
     "text": [
      "gen = 96 , Best fitness = (np.float64(0.2548591828639429),) , Number of invalids = 25\n"
     ]
    },
    {
     "name": "stderr",
     "output_type": "stream",
     "text": [
      "/home/tu/code-py/evolutionary-computation/grape/algorithms.py:243: UserWarning: Warning: There are valid individuals with fitness = NaN in the population. We will avoid in the statistics.\n",
      "  warnings.warn(\"Warning: There are valid individuals with fitness = NaN in the population. We will avoid in the statistics.\")\n"
     ]
    },
    {
     "name": "stdout",
     "output_type": "stream",
     "text": [
      "gen = 97 , Best fitness = (np.float64(0.2548591828639429),) , Number of invalids = 19\n"
     ]
    },
    {
     "name": "stderr",
     "output_type": "stream",
     "text": [
      "/home/tu/code-py/evolutionary-computation/grape/algorithms.py:243: UserWarning: Warning: There are valid individuals with fitness = NaN in the population. We will avoid in the statistics.\n",
      "  warnings.warn(\"Warning: There are valid individuals with fitness = NaN in the population. We will avoid in the statistics.\")\n"
     ]
    },
    {
     "name": "stdout",
     "output_type": "stream",
     "text": [
      "gen = 98 , Best fitness = (np.float64(0.2548591828639429),) , Number of invalids = 27\n"
     ]
    },
    {
     "name": "stderr",
     "output_type": "stream",
     "text": [
      "/home/tu/code-py/evolutionary-computation/grape/algorithms.py:243: UserWarning: Warning: There are valid individuals with fitness = NaN in the population. We will avoid in the statistics.\n",
      "  warnings.warn(\"Warning: There are valid individuals with fitness = NaN in the population. We will avoid in the statistics.\")\n"
     ]
    },
    {
     "name": "stdout",
     "output_type": "stream",
     "text": [
      "gen = 99 , Best fitness = (np.float64(0.2548591828639429),) , Number of invalids = 13\n",
      "gen = 100 , Best fitness = (np.float64(0.2548591828639429),) , Number of invalids = 12\n"
     ]
    },
    {
     "name": "stderr",
     "output_type": "stream",
     "text": [
      "/home/tu/code-py/evolutionary-computation/grape/algorithms.py:243: UserWarning: Warning: There are valid individuals with fitness = NaN in the population. We will avoid in the statistics.\n",
      "  warnings.warn(\"Warning: There are valid individuals with fitness = NaN in the population. We will avoid in the statistics.\")\n"
     ]
    }
   ],
   "source": [
    "# population and hall of fame:\n",
    "population = toolbox.populationCreator(\n",
    "    pop_size=POPULATION_SIZE,\n",
    "    bnf_grammar=grammar,\n",
    "    min_init_depth=MIN_INIT_TREE_DEPTH,\n",
    "    max_init_depth=MAX_INIT_TREE_DEPTH,\n",
    "    codon_size=CODON_SIZE,\n",
    "    codon_consumption=CODON_CONSUMPTION,\n",
    "    genome_representation=GENOME_REPRESENTATION,\n",
    ")\n",
    "hof = tools.HallOfFame(HALLOFFAME_SIZE)\n",
    "\n",
    "# prepare the statistics object:\n",
    "stats = tools.Statistics(lambda ind: ind.fitness.values)\n",
    "stats.register(\"avg\", np.nanmean)\n",
    "stats.register(\"std\", np.nanstd)\n",
    "stats.register(\"min\", np.nanmin)\n",
    "stats.register(\"max\", np.nanmax)\n",
    "\n",
    "# run the algorithm:\n",
    "population, logbook = ge_eaSimpleWithElitism(\n",
    "    population,\n",
    "    toolbox,\n",
    "    cxpb=P_CROSSOVER,\n",
    "    mutpb=P_MUTATION,\n",
    "    ngen=MAX_GENERATIONS,\n",
    "    elite_size=ELITE_SIZE,\n",
    "    bnf_grammar=grammar,\n",
    "    codon_size=CODON_SIZE,\n",
    "    max_tree_depth=MAX_TREE_DEPTH,\n",
    "    max_genome_length=MAX_GENOME_LENGTH,\n",
    "    points_train=[X_train, y_train],\n",
    "    # points_test=[X_test, y_test],\n",
    "    codon_consumption=CODON_CONSUMPTION,\n",
    "    report_items=REPORT_ITEMS,\n",
    "    genome_representation=GENOME_REPRESENTATION,\n",
    "    stats=stats,\n",
    "    halloffame=hof,\n",
    "    verbose=False,\n",
    ")"
   ]
  },
  {
   "cell_type": "code",
   "execution_count": 13,
   "metadata": {},
   "outputs": [
    {
     "data": {
      "text/plain": [
       "[<matplotlib.lines.Line2D at 0x795853f45190>]"
      ]
     },
     "execution_count": 13,
     "metadata": {},
     "output_type": "execute_result"
    },
    {
     "data": {
      "image/png": "[encoded data removed]",
      "text/plain": [
       "<Figure size 640x480 with 1 Axes>"
      ]
     },
     "metadata": {},
     "output_type": "display_data"
    }
   ],
   "source": [
    "from matplotlib import pyplot as plt\n",
    "\n",
    "gen = logbook.select(\"gen\")\n",
    "fit_mins = logbook.select(\"min\")\n",
    "fit_avgs = logbook.select(\"avg\")\n",
    "\n",
    "plt.plot(gen, fit_mins, \"b-\", label=\"Minimum Fitness\")\n",
    "plt.plot(gen, fit_avgs, \"r-\", label=\"Average Fitness\")"
   ]
  },
  {
   "cell_type": "markdown",
   "metadata": {},
   "source": [
    "## Best Individual"
   ]
  },
  {
   "cell_type": "code",
   "execution_count": 14,
   "metadata": {},
   "outputs": [
    {
     "name": "stdout",
     "output_type": "stream",
     "text": [
      "Best individual: \n",
      " and_(or_(and_(and_(bf[2], bf[1]), or_(bf[12], bf[0])), and_(bf[5],\n",
      "not_(greater_than(mul(nf[6], nf[5]), nf[2])))), and_(less_than(sub(nf[2],\n",
      "mul(add(add(nf[1], 3.5553), sub(-2.0218, nf[6])), nf[5])), nf[2]),\n",
      "not_(less_than(sub(nf[2], mul(add(add(nf[6], 3.5553), sub(-2.6848, nf[0])),\n",
      "nf[5])), -0.8999))))\n",
      "\n",
      "Training Fitness:  0.2548591828639429\n"
     ]
    }
   ],
   "source": [
    "import textwrap\n",
    "\n",
    "best = hof.items[0].phenotype\n",
    "print(\"Best individual: \\n\", \"\\n\".join(textwrap.wrap(best, 80)))\n",
    "print(\"\\nTraining Fitness: \", hof.items[0].fitness.values[0])"
   ]
  },
  {
   "cell_type": "code",
   "execution_count": 15,
   "metadata": {},
   "outputs": [],
   "source": [
    "print(hof.items[0].phenotype, file=open(\"best_individual.txt\", \"w+\"))"
   ]
  },
  {
   "cell_type": "markdown",
   "metadata": {},
   "source": [
    "### Predict"
   ]
  },
  {
   "cell_type": "code",
   "execution_count": null,
   "metadata": {},
   "outputs": [],
   "source": [
    "# test data \n",
    "testDf = pd.read_csv('test.csv')\n",
    "testDf[CONTINUOUS_FEATURES] = stdScaler.transform(testDf[CONTINUOUS_FEATURES])\n",
    "testDf[ORDINAL_FEATURES] = minMaxScaler.transform(testDf[ORDINAL_FEATURES])\n",
    "\n",
    "X_test = testDf\n",
    "\n",
    "res = []\n",
    "\n",
    "for i, row in X_test.iterrows():\n",
    "    nf = row[CONTINUOUS_FEATURES + ORDINAL_FEATURES].to_numpy()\n",
    "    bf = row[BOOLEAN_FEATURES].to_numpy()\n",
    "\n",
    "    pred = gePredict(hof.items[0], nf, bf)\n",
    "    res.append(pred)"
   ]
  },
  {
   "cell_type": "code",
   "execution_count": 17,
   "metadata": {},
   "outputs": [],
   "source": [
    "# make df of index, output; index [0...n-1]; output is above\n",
    "\n",
    "outputDf = pd.DataFrame(res, columns=[\"output\"])\n",
    "outputDf[\"index\"] = outputDf.index\n",
    "\n",
    "outputDf = outputDf[[\"index\", \"output\"]]\n",
    "\n",
    "outputDf.to_csv(\"submission.csv\", index=False)\n",
    "\n"
   ]
  }
 ],
 "metadata": {
  "kernelspec": {
   "display_name": "base",
   "language": "python",
   "name": "python3"
  },
  "language_info": {
   "codemirror_mode": {
    "name": "ipython",
    "version": 3
   },
   "file_extension": ".py",
   "mimetype": "text/x-python",
   "name": "python",
   "nbconvert_exporter": "python",
   "pygments_lexer": "ipython3",
   "version": "3.9.19"
  }
 },
 "nbformat": 4,
 "nbformat_minor": 2
}
